{
 "cells": [
  {
   "cell_type": "code",
   "execution_count": 9,
   "metadata": {},
   "outputs": [
    {
     "name": "stdout",
     "output_type": "stream",
     "text": [
      "Maria: Here are three possible ways to get KFC chicken:Option 1: Go to a nearby KFC outlet and buy itOption 2: Order online or through food delivery apps for home deliveryOption 3: Cook KFC style chicken at home by following their secret recipe (which is not actually a secret anymore)\n"
     ]
    },
    {
     "data": {
      "text/plain": [
       "'Here are three possible ways to get KFC chicken:Option 1: Go to a nearby KFC outlet and buy itOption 2: Order online or through food delivery apps for home deliveryOption 3: Cook KFC style chicken at home by following their secret recipe (which is not actually a secret anymore)\\n'"
      ]
     },
     "execution_count": 9,
     "metadata": {},
     "output_type": "execute_result"
    }
   ],
   "source": [
    "goal_prompt = \"How to have KFC chickens?\"\n",
    "next_prompt = \"What is the next step to achieve the goal? Give me 3 options.\"\n",
    "from utils import *\n",
    "\n",
    "message_history = [{\"role\":\"user\", \"content\": next_prompt}]\n",
    "\n",
    "format_prompt = formatting_query_prompt(message_history, goal_prompt, tokenizer)\n",
    "response = get_response_from_finetune_checkpoint(format_prompt=format_prompt)\n",
    "\n",
    "\n",
    "response\n"
   ]
  },
  {
   "cell_type": "code",
   "execution_count": null,
   "metadata": {},
   "outputs": [],
   "source": []
  }
 ],
 "metadata": {
  "kernelspec": {
   "display_name": "Python 3",
   "language": "python",
   "name": "python3"
  },
  "language_info": {
   "codemirror_mode": {
    "name": "ipython",
    "version": 3
   },
   "file_extension": ".py",
   "mimetype": "text/x-python",
   "name": "python",
   "nbconvert_exporter": "python",
   "pygments_lexer": "ipython3",
   "version": "3.11.5"
  }
 },
 "nbformat": 4,
 "nbformat_minor": 2
}
